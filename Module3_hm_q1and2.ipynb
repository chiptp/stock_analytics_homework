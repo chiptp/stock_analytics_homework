{
  "nbformat": 4,
  "nbformat_minor": 0,
  "metadata": {
    "colab": {
      "provenance": [],
      "mount_file_id": "1qpRhRZPTPuT2_ykvutihezCuudHM3fJG",
      "authorship_tag": "ABX9TyOTQuYOtEHbZpuPTD6xvia6"
    },
    "kernelspec": {
      "name": "python3",
      "display_name": "Python 3"
    },
    "language_info": {
      "name": "python"
    }
  },
  "cells": [
    {
      "cell_type": "code",
      "source": [
        "# import libraries\n",
        "import pandas as pd\n",
        "import datetime as dt\n",
        "import numpy as np"
      ],
      "metadata": {
        "id": "iLlFcy34fRko"
      },
      "execution_count": 130,
      "outputs": []
    },
    {
      "cell_type": "markdown",
      "source": [
        "### Question 1: Dummies for Month and Week-of-Month\n",
        "\n",
        "**What is the ABSOLUTE CORRELATION VALUE of the most correlated dummy variable <month>_w<week_of_month> with the binary outcome `is_positive_growth_30d_future`?**\n",
        "\n",
        "From the correlation analysis and modeling, you may have observed that October and November are potentially important seasonal months. In this task, you'll go further by generating dummy variables for both the **Month** and **Week-of-Month** (starting from 1). For example, the first week of October should be coded as: `'October_w1'`.\n",
        "\n",
        "Once you've generated these new variables, identify the one with the **highest absolute correlation** with `is_positive_growth_30d_future`, and round the result to **three decimal places**.\n",
        "\n",
        "\n",
        "#### Suggested Steps\n",
        "\n",
        "1. Use [this StackOverflow reference](https://stackoverflow.com/questions/25249033/week-of-a-month-pandas) to compute the week of the month using the following formula:\n",
        "  ```python\n",
        "  (d.day - 1) // 7 + 1\n",
        "  ```\n",
        "2. Create a new string variable that combines the month name and week of the month.\n",
        "Example: 'October_w1', 'November_w2', etc.\n",
        "\n",
        "3. Add the new variable (e.g., `month_wom`) to your set of **categorical features**.\n",
        "\n",
        "   Your updated categorical feature list should include:\n",
        "   - `'Month'`\n",
        "   - `'Weekday'`\n",
        "   - `'Ticker'`\n",
        "   - `'ticker_type'`\n",
        "   - `'month_wom'`\n",
        "\n",
        "4. Use [`pandas.get_dummies()`](https://pandas.pydata.org/pandas-docs/stable/reference/api/pandas.get_dummies.html) to generate dummy variables for all categorical features.\n",
        "\n",
        "   This should result in approximately **115 dummy variables**, including around **60** for the `month_wom` feature (`12 months × up to 5 weeks`).\n",
        "\n",
        "5. Use [`DataFrame.corr()`](https://pandas.pydata.org/docs/reference/api/pandas.DataFrame.corr.html) to compute the correlation between each feature and the target variable `is_positive_growth_30d_future`.\n",
        "\n",
        "6. Filter the correlation results to include only the dummy variables generated from `month_wom`.\n",
        "\n",
        "7. Create a new column named `abs_corr` in the correlation results that stores the **absolute value** of the correlations.\n",
        "\n",
        "8. Sort the correlation results by `abs_corr` in **descending** order.\n",
        "\n",
        "9. Identify and report the **highest absolute correlation value** among the `month_wom` dummy variables, rounded to **three decimal places**.\n",
        "\n",
        "\n",
        "**NOTE**: new dummies will be used as features in the next tasks, please leave them in the dataset."
      ],
      "metadata": {
        "id": "Fl5yev22fhTw"
      }
    },
    {
      "cell_type": "code",
      "source": [
        "df_full = pd.read_parquet('/content/drive/MyDrive/Colab Notebooks/1. DataTalk/PythonInvest/Homework - Deadline Jul 14/data/stocks_df_combined_2025_06_13.parquet.brotli')"
      ],
      "metadata": {
        "id": "XBhi9yP_fsZ7"
      },
      "execution_count": 131,
      "outputs": []
    },
    {
      "cell_type": "code",
      "source": [
        "# truncated df_full with 25 years of data\n",
        "df = df_full[df_full.Date>='2000-01-01']\n",
        "df.info()"
      ],
      "metadata": {
        "colab": {
          "base_uri": "https://localhost:8080/"
        },
        "id": "dzIprmNhi4cA",
        "outputId": "2ea6431f-b963-4aa7-923f-0f27a33de384"
      },
      "execution_count": 132,
      "outputs": [
        {
          "output_type": "stream",
          "name": "stdout",
          "text": [
            "<class 'pandas.core.frame.DataFrame'>\n",
            "Index: 191795 entries, 3490 to 5700\n",
            "Columns: 203 entries, Open to growth_btc_usd_365d\n",
            "dtypes: datetime64[ns](3), float64(129), int32(64), int64(5), object(2)\n",
            "memory usage: 251.7+ MB\n"
          ]
        }
      ]
    },
    {
      "cell_type": "code",
      "source": [
        "[col for col in df.keys() if '30d' in col]"
      ],
      "metadata": {
        "colab": {
          "base_uri": "https://localhost:8080/"
        },
        "id": "gB9Q6QojsThq",
        "outputId": "44122ed9-45ad-4429-9d54-7903df7203bf"
      },
      "execution_count": 133,
      "outputs": [
        {
          "output_type": "execute_result",
          "data": {
            "text/plain": [
              "['growth_30d',\n",
              " 'growth_future_30d',\n",
              " 'is_positive_growth_30d_future',\n",
              " 'growth_dax_30d',\n",
              " 'growth_snp500_30d',\n",
              " 'growth_dji_30d',\n",
              " 'growth_epi_30d',\n",
              " 'growth_gold_30d',\n",
              " 'growth_wti_oil_30d',\n",
              " 'growth_brent_oil_30d',\n",
              " 'growth_btc_usd_30d']"
            ]
          },
          "metadata": {},
          "execution_count": 133
        }
      ]
    },
    {
      "cell_type": "code",
      "source": [
        "df['month_wom'] = df['Date'].apply(lambda d: d.strftime('%B')+'_w'+str((d.day - 1) // 7 + 1))\n",
        "df['Month'] = df['Date'].dt.month_name()\n",
        "df['Weekday'] = df['Date'].dt.day_name()"
      ],
      "metadata": {
        "id": "CIPLdSe4kwe4"
      },
      "execution_count": 134,
      "outputs": []
    },
    {
      "cell_type": "code",
      "source": [
        "# Categorical feature list\n",
        "CATEGORICAL = ['Month', 'Weekday', 'Ticker', 'ticker_type', 'month_wom']\n",
        "# Generate dummy varibles of the categorical features\n",
        "dummy_variables = pd.get_dummies(df[CATEGORICAL],dtype='int32')\n",
        "# append dummy variables into df\n",
        "df_with_dummies = pd.concat([df, dummy_variables], axis=1)"
      ],
      "metadata": {
        "id": "9iUNqjYmmJ3b"
      },
      "execution_count": 135,
      "outputs": []
    },
    {
      "cell_type": "code",
      "source": [
        "DUMMIES = dummy_variables.keys().to_list()"
      ],
      "metadata": {
        "id": "TW7kX5p1frgo"
      },
      "execution_count": 136,
      "outputs": []
    },
    {
      "cell_type": "code",
      "source": [
        "PREDICT = ['is_positive_growth_30d_future']"
      ],
      "metadata": {
        "id": "O1phZ7gxpjyl"
      },
      "execution_count": 137,
      "outputs": []
    },
    {
      "cell_type": "code",
      "source": [
        "df_with_dummies['Date'].min()\n",
        "df_with_dummies.shape[0]"
      ],
      "metadata": {
        "colab": {
          "base_uri": "https://localhost:8080/"
        },
        "id": "ICCdQhDXjBTf",
        "outputId": "b9a6f969-a413-4ab2-f79d-5fc73b5f38a8"
      },
      "execution_count": 138,
      "outputs": [
        {
          "output_type": "execute_result",
          "data": {
            "text/plain": [
              "191795"
            ]
          },
          "metadata": {},
          "execution_count": 138
        }
      ]
    },
    {
      "cell_type": "code",
      "source": [
        "# correlation between dummy variables and predict\n",
        "corr = df_with_dummies[dummy_variables.keys().to_list()+PREDICT].corr()['is_positive_growth_30d_future']\n",
        "abs_corr = abs(corr[corr.index.str.contains('month_wom')])\n",
        "abs_corr.sort_values(ascending=False).head(5)"
      ],
      "metadata": {
        "id": "VYhQGCrmfW9S",
        "colab": {
          "base_uri": "https://localhost:8080/",
          "height": 240
        },
        "outputId": "e3d5c7d9-2f44-4bc7-f85c-aa05f8ed42c3"
      },
      "execution_count": 139,
      "outputs": [
        {
          "output_type": "execute_result",
          "data": {
            "text/plain": [
              "month_wom_October_w4     0.024968\n",
              "month_wom_November_w3    0.022097\n",
              "month_wom_November_w2    0.018822\n",
              "month_wom_January_w2     0.018327\n",
              "month_wom_October_w3     0.017734\n",
              "Name: is_positive_growth_30d_future, dtype: float64"
            ],
            "text/html": [
              "<div>\n",
              "<style scoped>\n",
              "    .dataframe tbody tr th:only-of-type {\n",
              "        vertical-align: middle;\n",
              "    }\n",
              "\n",
              "    .dataframe tbody tr th {\n",
              "        vertical-align: top;\n",
              "    }\n",
              "\n",
              "    .dataframe thead th {\n",
              "        text-align: right;\n",
              "    }\n",
              "</style>\n",
              "<table border=\"1\" class=\"dataframe\">\n",
              "  <thead>\n",
              "    <tr style=\"text-align: right;\">\n",
              "      <th></th>\n",
              "      <th>is_positive_growth_30d_future</th>\n",
              "    </tr>\n",
              "  </thead>\n",
              "  <tbody>\n",
              "    <tr>\n",
              "      <th>month_wom_October_w4</th>\n",
              "      <td>0.024968</td>\n",
              "    </tr>\n",
              "    <tr>\n",
              "      <th>month_wom_November_w3</th>\n",
              "      <td>0.022097</td>\n",
              "    </tr>\n",
              "    <tr>\n",
              "      <th>month_wom_November_w2</th>\n",
              "      <td>0.018822</td>\n",
              "    </tr>\n",
              "    <tr>\n",
              "      <th>month_wom_January_w2</th>\n",
              "      <td>0.018327</td>\n",
              "    </tr>\n",
              "    <tr>\n",
              "      <th>month_wom_October_w3</th>\n",
              "      <td>0.017734</td>\n",
              "    </tr>\n",
              "  </tbody>\n",
              "</table>\n",
              "</div><br><label><b>dtype:</b> float64</label>"
            ]
          },
          "metadata": {},
          "execution_count": 139
        }
      ]
    },
    {
      "cell_type": "markdown",
      "source": [
        "---\n",
        "### Question 2:  Define New \"Hand\" Rules on Macro and Technical Indicator Variables\n",
        "\n",
        "**What is the precision score for the best of the NEW predictions (`pred3` or `pred4`), rounded to 3 digits after the comma?**\n",
        "\n",
        "In this task, you'll apply insights from the **visualized decision tree (`clf10`)** (see *Code Snippet 5: 1.4.4 Visualisation*) to manually define and evaluate new predictive rules.\n",
        "\n",
        "\n",
        "1. **Define two new 'hand' rules** based on branches that lead to 'positive' predictions in the tree:\n",
        "   - `pred3_manual_dgs10_5`:  \n",
        "     ```python\n",
        "     (DGS10 <= 4) & (DGS5 <= 1)\n",
        "     ```\n",
        "   - `pred4_manual_dgs10_fedfunds`:  \n",
        "     ```python\n",
        "     (DGS10 > 4) & (FEDFUNDS <= 4.795)\n",
        "     ```\n",
        "\n",
        "2. **Extend Code Snippet 3** (Manual \"hand rule\" predictions):  \n",
        "   - Implement and apply the above two rules (`pred3`, `pred4`) to your dataset.\n",
        "   - Add the resulting predictions as new columns in your dataframe (e.g., `new_df`).\n",
        "\n",
        "3. **Compute precision**:\n",
        "   - For the rule that **does** make positive predictions on the TEST set, compute its **precision score**.\n",
        "   - Use standard precision metrics (`TP / (TP + FP)`).\n",
        "   - Round the precision score to **three decimal places**.  \n",
        "     Example: If your result is `0.57897`, your final answer should be: `0.579`."
      ],
      "metadata": {
        "id": "GfVFuqlajWD5"
      }
    },
    {
      "cell_type": "code",
      "source": [
        "# Temporal split function based on the Date field\n",
        "def temporal_split(df, min_date, max_date, train_prop=0.7, val_prop=0.15, test_prop=0.15):\n",
        "    # Define the date intervals\n",
        "    train_end = min_date + pd.Timedelta(days=(max_date - min_date).days * train_prop)\n",
        "    val_end = train_end + pd.Timedelta(days=(max_date - min_date).days * val_prop)\n",
        "\n",
        "    # Assign split labels based on date ranges\n",
        "    split_labels = []\n",
        "    for date in df['Date']:\n",
        "        if date <= train_end:\n",
        "            split_labels.append('train')\n",
        "        elif date <= val_end:\n",
        "            split_labels.append('validation')\n",
        "        else:\n",
        "            split_labels.append('test')\n",
        "\n",
        "    # Add 'split' column to the DataFrame\n",
        "    df['split'] = split_labels\n",
        "\n",
        "    return df"
      ],
      "metadata": {
        "id": "Y0x9hzGxjX49"
      },
      "execution_count": 140,
      "outputs": []
    },
    {
      "cell_type": "code",
      "source": [
        "min_date = df_with_dummies['Date'].min()\n",
        "max_date = df_with_dummies['Date'].max()\n",
        "df_with_dummies = temporal_split(df_with_dummies, min_date = min_date, max_date = max_date)\n",
        "df_with_dummies['split'].value_counts()/len(df_with_dummies)"
      ],
      "metadata": {
        "colab": {
          "base_uri": "https://localhost:8080/",
          "height": 209
        },
        "id": "oh-ZEZOzedBT",
        "outputId": "e7b62f9b-921c-4b99-b828-f5eb6e557026"
      },
      "execution_count": 141,
      "outputs": [
        {
          "output_type": "execute_result",
          "data": {
            "text/plain": [
              "split\n",
              "train         0.676399\n",
              "test          0.163758\n",
              "validation    0.159843\n",
              "Name: count, dtype: float64"
            ],
            "text/html": [
              "<div>\n",
              "<style scoped>\n",
              "    .dataframe tbody tr th:only-of-type {\n",
              "        vertical-align: middle;\n",
              "    }\n",
              "\n",
              "    .dataframe tbody tr th {\n",
              "        vertical-align: top;\n",
              "    }\n",
              "\n",
              "    .dataframe thead th {\n",
              "        text-align: right;\n",
              "    }\n",
              "</style>\n",
              "<table border=\"1\" class=\"dataframe\">\n",
              "  <thead>\n",
              "    <tr style=\"text-align: right;\">\n",
              "      <th></th>\n",
              "      <th>count</th>\n",
              "    </tr>\n",
              "    <tr>\n",
              "      <th>split</th>\n",
              "      <th></th>\n",
              "    </tr>\n",
              "  </thead>\n",
              "  <tbody>\n",
              "    <tr>\n",
              "      <th>train</th>\n",
              "      <td>0.676399</td>\n",
              "    </tr>\n",
              "    <tr>\n",
              "      <th>test</th>\n",
              "      <td>0.163758</td>\n",
              "    </tr>\n",
              "    <tr>\n",
              "      <th>validation</th>\n",
              "      <td>0.159843</td>\n",
              "    </tr>\n",
              "  </tbody>\n",
              "</table>\n",
              "</div><br><label><b>dtype:</b> float64</label>"
            ]
          },
          "metadata": {},
          "execution_count": 141
        }
      ]
    },
    {
      "cell_type": "code",
      "execution_count": 142,
      "metadata": {
        "id": "IpRKmVtaf6is"
      },
      "outputs": [],
      "source": [
        "# All Supported Ta-lib indicators: https://github.com/TA-Lib/ta-lib-python/blob/master/docs/funcs.md\n",
        "\n",
        "TECHNICAL_INDICATORS = ['adx', 'adxr', 'apo', 'aroon_1','aroon_2', 'aroonosc',\n",
        " 'bop', 'cci', 'cmo','dx', 'macd', 'macdsignal', 'macdhist', 'macd_ext',\n",
        " 'macdsignal_ext', 'macdhist_ext', 'macd_fix', 'macdsignal_fix',\n",
        " 'macdhist_fix', 'mfi', 'minus_di', 'mom', 'plus_di', 'dm', 'ppo',\n",
        " 'roc', 'rocp', 'rocr', 'rocr100', 'rsi', 'slowk', 'slowd', 'fastk',\n",
        " 'fastd', 'fastk_rsi', 'fastd_rsi', 'trix', 'ultosc', 'willr',\n",
        " 'ad', 'adosc', 'obv', 'atr', 'natr', 'ht_dcperiod', 'ht_dcphase',\n",
        " 'ht_phasor_inphase', 'ht_phasor_quadrature', 'ht_sine_sine', 'ht_sine_leadsine',\n",
        " 'ht_trendmod', 'avgprice', 'medprice', 'typprice', 'wclprice']\n",
        "\n",
        "TECHNICAL_PATTERNS = [g for g in df_full.keys() if g.find('cdl')>=0]\n",
        "\n",
        "MACRO = ['gdppot_us_yoy', 'gdppot_us_qoq', 'cpi_core_yoy', 'cpi_core_mom', 'FEDFUNDS',\n",
        " 'DGS1', 'DGS5', 'DGS10']\n",
        "\n",
        "GROWTH = [g for g in df_full.keys() if (g.find('growth_')==0)&(g.find('future')<0)]\n",
        "\n",
        "# CUSTOM_NUMERICAL = ['SMA10', 'SMA20', 'growing_moving_average', 'high_minus_low_relative','volatility', 'ln_volume']"
      ]
    },
    {
      "cell_type": "code",
      "source": [
        "INDICATOR = ['DGS10','DGS5','FEDFUNDS']\n",
        "SPLIT = ['split']\n",
        "PREDICT = ['is_positive_growth_30d_future','growth_30d','growth_snp500_30d']"
      ],
      "metadata": {
        "id": "KjuTcfuboUiD"
      },
      "execution_count": 143,
      "outputs": []
    },
    {
      "cell_type": "code",
      "source": [
        "# NUMERICAL = GROWTH + TECHNICAL_INDICATORS + TECHNICAL_PATTERNS + MACRO #+ CUSTOM_NUMERICAL"
      ],
      "metadata": {
        "id": "l69sVA5-yix1"
      },
      "execution_count": 153,
      "outputs": []
    },
    {
      "cell_type": "code",
      "source": [
        "new_df = df_with_dummies[['Date']+INDICATOR+PREDICT+SPLIT]"
      ],
      "metadata": {
        "id": "FTaTq7EXyKm9"
      },
      "execution_count": 158,
      "outputs": []
    },
    {
      "cell_type": "code",
      "source": [
        "new_df['pred3_manual_dgs10_5'] = np.where((new_df['DGS10'] <= 4) & (new_df['DGS5'] <= 1),1,0)\n",
        "new_df['pred4_manual_dgs10_fedfunds'] = np.where((new_df['DGS10'] > 4) & (new_df['FEDFUNDS'] <= 4.795),1,0)"
      ],
      "metadata": {
        "id": "xV3vtg7uzLTx"
      },
      "execution_count": 159,
      "outputs": []
    },
    {
      "cell_type": "code",
      "source": [
        "new_df['pred3_validation'] = (new_df['pred3_manual_dgs10_5']==new_df['is_positive_growth_30d_future'])\n",
        "new_df['pred4_validation'] = (new_df['pred4_manual_dgs10_fedfunds']==df_with_dummies['is_positive_growth_30d_future'])"
      ],
      "metadata": {
        "id": "hOlTcOHCzlDV"
      },
      "execution_count": 160,
      "outputs": []
    },
    {
      "cell_type": "code",
      "source": [
        "# precision score\n",
        "new_df_test=new_df[new_df.split=='test']\n",
        "pred3_tp = (new_df_test['pred3_validation'] & new_df_test['is_positive_growth_30d_future']==1).sum()\n",
        "pred4_tp = (new_df_test['pred4_validation'] & new_df_test['is_positive_growth_30d_future']==1).sum()\n",
        "print(f\"rule dgs10 <=4 and dgs5 <=1: {(pred3_tp/(new_df_test['pred3_manual_dgs10_5']==1).sum()):.3f}\")\n",
        "print(f\"rule dgs10 >4 and fedfunds <=4.795: {(pred4_tp/(new_df_test['pred4_manual_dgs10_fedfunds']==1).sum()):.3f}\")"
      ],
      "metadata": {
        "colab": {
          "base_uri": "https://localhost:8080/"
        },
        "collapsed": true,
        "id": "5-n9xNcDz2-1",
        "outputId": "425d7df3-c91b-4133-8272-009fc2be8a18"
      },
      "execution_count": 161,
      "outputs": [
        {
          "output_type": "stream",
          "name": "stdout",
          "text": [
            "rule dgs10 <=4 and dgs5 <=1: 0.580\n",
            "rule dgs10 >4 and fedfunds <=4.795: 0.466\n"
          ]
        }
      ]
    }
  ]
}